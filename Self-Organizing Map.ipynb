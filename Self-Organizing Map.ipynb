{
 "cells": [
  {
   "cell_type": "code",
   "execution_count": 67,
   "metadata": {
    "collapsed": true
   },
   "outputs": [],
   "source": [
    "# Import dependencies\n",
    "import numpy as np #numpy for matrix math and generating toy data\n",
    "import matplotlib.pyplot as plt # for visualization and plots\n",
    "from skimage.io import imread, imsave # to save the images\n",
    "import os\n",
    "\n",
    "%matplotlib inline "
   ]
  },
  {
   "cell_type": "code",
   "execution_count": 68,
   "metadata": {
    "collapsed": true
   },
   "outputs": [],
   "source": [
    "# a few hyperparameters\n",
    "dim = 3 # color data is 3 dimensional (red, green, blue)\n",
    "network_dim = (32, 32)\n",
    "# let's let it run for WAYYYYYY too long cause I have nothing better to do than stare at a bunch of noisy images!\n",
    "iterations = 500 # training is iterative. How many iterations do we run for?\n",
    "init_learning_rate = 0.1 # how fast should the model learn?\n",
    "\n",
    "\n",
    "seed = 13 # the seed for the PRNG (so results can be reproduced)\n",
    "num_data_points = 100000 # the number of data points to generate\n",
    "data_type = 'RANDOM'\n",
    "\n",
    "decay_radius = True\n",
    "decay_lr = True\n",
    "\n",
    "image_save_folder = 'images_random_true_true'\n",
    "weight_save_file = 'weights_random_true_true'\n",
    "\n",
    "if(not os.path.exists(image_save_folder)):\n",
    "    os.mkdir(image_save_folder)\n",
    "\n",
    "normalise_data = True # should make all data 0..1\n",
    "normalise_columns = True # True if features are on diffent scales and normalization should only occur between each feature\n"
   ]
  },
  {
   "cell_type": "code",
   "execution_count": 69,
   "metadata": {
    "collapsed": false
   },
   "outputs": [
    {
     "name": "stdout",
     "output_type": "stream",
     "text": [
      "[[ 82 176  74]\n",
      " [ 16 230  98]\n",
      " [244 153 236]\n",
      " [186 227 154]\n",
      " [244 126 194]\n",
      " [174 182 229]\n",
      " [205  74  73]\n",
      " [ 75  52   2]\n",
      " [160 147 149]\n",
      " [147 139 214]]\n"
     ]
    }
   ],
   "source": [
    "if(data_type == 'RANDOM'):\n",
    "    # seed the PRNG\n",
    "    np.random.seed(seed) \n",
    "    # Generate random color data (red, green, blue as columns, each row is a new color)\n",
    "    raw_data = np.random.randint(0, 255, (num_data_points, dim))\n",
    "# this is the center row of the table found here: http://www.rapidtables.com/web/color/RGB_Color.htm\n",
    "elif(data_type == 'COLOR_WHEEL'):\n",
    "    raw_data = np.array([\n",
    "        [255, 0, 0],\n",
    "        [255, 128, 0],\n",
    "        [255, 255, 0],\n",
    "        [128, 255, 0],\n",
    "        [0  , 255, 0],\n",
    "        [0  , 255, 128],\n",
    "        [0  , 255, 255],\n",
    "        [0  ,   0, 255],\n",
    "        [127,   0, 255],\n",
    "        [255,   0, 255],\n",
    "        [255,   0, 127]\n",
    "    ], dtype=float)\n",
    "elif(data_type == 'RGB'):\n",
    "    raw_data = np.array([[255, 0, 0], [0, 255, 0], [0, 0, 255]], dtype=float)\n",
    "# Show first 10 values of data to ensure it looks good\n",
    "print(raw_data[:10, :]) # Transpose the matrix so each row is a color (rather than each column). "
   ]
  },
  {
   "cell_type": "code",
   "execution_count": 70,
   "metadata": {
    "collapsed": false
   },
   "outputs": [
    {
     "data": {
      "text/plain": [
       "<matplotlib.image.AxesImage at 0x27060e2240>"
      ]
     },
     "execution_count": 70,
     "metadata": {},
     "output_type": "execute_result"
    },
    {
     "data": {
      "image/png": "[encoded data removed]",
      "text/plain": [
       "<matplotlib.figure.Figure at 0x2704e6ebe0>"
      ]
     },
     "metadata": {},
     "output_type": "display_data"
    }
   ],
   "source": [
    "# Define our model\n",
    "\n",
    "# create a weight matrix with a `dim` dimensional vector for each neuron\n",
    "net = np.random.random((network_dim[0], network_dim[1], dim))\n",
    "\n",
    "# Let take a look at the weights at the very beginning. Its just a bunch of random colors\n",
    "plt.imshow(net)"
   ]
  },
  {
   "cell_type": "code",
   "execution_count": 71,
   "metadata": {
    "collapsed": false
   },
   "outputs": [],
   "source": [
    "# initial neighbourhood radius\n",
    "init_radius = max(network_dim[0], network_dim[1]) / 2\n",
    "# radius decay parameter\n",
    "time_const = iterations / np.log(init_radius)"
   ]
  },
  {
   "cell_type": "code",
   "execution_count": 72,
   "metadata": {
    "collapsed": true
   },
   "outputs": [],
   "source": [
    "# Normalise the data\n",
    "data = raw_data  # don't mess around with the raw data. Instead, make a copy!\n",
    "if(normalise_data):\n",
    "    if(normalise_columns):\n",
    "        # find the max value for each column. In this case, we know it should be ~255, but other data may be different\n",
    "        col_maxes = raw_data.max(axis=0) \n",
    "        # normalise along each column\n",
    "        data = raw_data / col_maxes\n",
    "    else:\n",
    "        # normalise the entire dataset. \n",
    "        data = raw_data / raw_data.max()"
   ]
  },
  {
   "cell_type": "code",
   "execution_count": 73,
   "metadata": {
    "collapsed": true
   },
   "outputs": [],
   "source": [
    "# we need a function to find the best-matching unit\n",
    "def find_bmu(sample, net, dim):\n",
    "    bmu_idx = (0, 0) # start with the best matching unit being the (0,0) one\n",
    "    min_dist = np.iinfo(np.int).max # start with a very high min_dist. It will be set correctly on the first iteration\n",
    "    for x in range(net.shape[0]):\n",
    "        for y in range(net.shape[1]):\n",
    "            # for each neuron\n",
    "            w = net[x,y, :] # get the neuron weight values\n",
    "            sqr_dist = np.sum((w-sample)**2) # get the distance between the weights and the sample\n",
    "            if(sqr_dist < min_dist):\n",
    "                # if this is a better distance than any of the previous ones, record it as min_dist and bmu_idx\n",
    "                min_dist = sqr_dist\n",
    "                bmu_idx = (x,y)\n",
    "    bmu = net[bmu_idx[0], bmu_idx[1], :] # get the weights for the closest neuron\n",
    "    return (bmu, bmu_idx)"
   ]
  },
  {
   "cell_type": "code",
   "execution_count": null,
   "metadata": {
    "collapsed": true
   },
   "outputs": [],
   "source": []
  },
  {
   "cell_type": "code",
   "execution_count": 74,
   "metadata": {
    "collapsed": true
   },
   "outputs": [],
   "source": [
    "# functions to decay learning rate and radius over time\n",
    "\n",
    "def decay_radius_func(radius, i, time_const):\n",
    "    return radius * np.exp(-i / time_const)\n",
    "\n",
    "def decay_lr_func(lr, i, iterations):\n",
    "    return lr * np.exp(-i / iterations)"
   ]
  },
  {
   "cell_type": "markdown",
   "metadata": {},
   "source": [
    "# Calculate Influence\n",
    "\n",
    "$$ \\exp {\\frac{-d}{2*r^2}} $$"
   ]
  },
  {
   "cell_type": "code",
   "execution_count": 75,
   "metadata": {
    "collapsed": false
   },
   "outputs": [],
   "source": [
    "# calculate the influence given the distance the the radius\n",
    "def calculate_influence(distance, radius):\n",
    "    return np.exp(-distance / (2* (radius**2)))\n",
    "\n",
    "def update_weights(lr, r, net, bmu_idx, sample):\n",
    "    for x in range(net.shape[0]):\n",
    "        for y in range(net.shape[1]):\n",
    "            # for each neuron\n",
    "            w = net[x,y, :] # get the neuron weight values\n",
    "            # calculate the square distance in the network between this neuron and the bmu neuron\n",
    "            sqr_dist = np.sum((np.array([x,y]) - bmu_idx)**2)\n",
    "            # if this neuron is in the radius\n",
    "            if(sqr_dist <= r**2):\n",
    "                influence = calculate_influence(sqr_dist, r)\n",
    "                new_w = w + (lr * influence * (sample - w))\n",
    "                net[x, y, :] = new_w\n",
    "                  \n",
    "    return net"
   ]
  },
  {
   "cell_type": "code",
   "execution_count": 76,
   "metadata": {
    "collapsed": false,
    "scrolled": true
   },
   "outputs": [
    {
     "name": "stderr",
     "output_type": "stream",
     "text": [
      "C:\\Users\\amit-personal\\Anaconda3\\lib\\site-packages\\skimage\\util\\dtype.py:110: UserWarning: Possible precision loss when converting from float64 to uint8\n",
      "  \"%s to %s\" % (dtypeobj_in, dtypeobj))\n"
     ]
    },
    {
     "name": "stdout",
     "output_type": "stream",
     "text": [
      "After 99 iterations: \n"
     ]
    },
    {
     "data": {
      "image/png": "[encoded data removed]",
      "text/plain": [
       "<matplotlib.figure.Figure at 0x27060fb748>"
      ]
     },
     "metadata": {},
     "output_type": "display_data"
    },
    {
     "name": "stdout",
     "output_type": "stream",
     "text": [
      "After 199 iterations: \n"
     ]
    },
    {
     "data": {
      "image/png": "[encoded data removed]",
      "text/plain": [
       "<matplotlib.figure.Figure at 0x2705ed8ba8>"
      ]
     },
     "metadata": {},
     "output_type": "display_data"
    },
    {
     "name": "stdout",
     "output_type": "stream",
     "text": [
      "After 299 iterations: \n"
     ]
    },
    {
     "data": {
      "image/png": "[encoded data removed]",
      "text/plain": [
       "<matplotlib.figure.Figure at 0x2705f44f28>"
      ]
     },
     "metadata": {},
     "output_type": "display_data"
    },
    {
     "name": "stderr",
     "output_type": "stream",
     "text": [
      "C:\\Users\\amit-personal\\Anaconda3\\lib\\site-packages\\ipykernel\\__main__.py:3: RuntimeWarning: invalid value encountered in true_divide\n",
      "  app.launch_new_instance()\n",
      "C:\\Users\\amit-personal\\Anaconda3\\lib\\site-packages\\numpy\\lib\\function_base.py:3834: RuntimeWarning: Invalid value encountered in percentile\n",
      "  RuntimeWarning)\n"
     ]
    },
    {
     "name": "stdout",
     "output_type": "stream",
     "text": [
      "After 399 iterations: \n"
     ]
    },
    {
     "data": {
      "image/png": "[encoded data removed]",
      "text/plain": [
       "<matplotlib.figure.Figure at 0x2704e7c470>"
      ]
     },
     "metadata": {},
     "output_type": "display_data"
    },
    {
     "name": "stdout",
     "output_type": "stream",
     "text": [
      "After 499 iterations: \n"
     ]
    },
    {
     "data": {
      "image/png": "[encoded data removed]",
      "text/plain": [
       "<matplotlib.figure.Figure at 0x2706010c50>"
      ]
     },
     "metadata": {},
     "output_type": "display_data"
    }
   ],
   "source": [
    "# THE ACTUAL LEARNING PROCESS!!!! YAY!! FINALLY!!!!!\n",
    "\n",
    "    \n",
    "radius = init_radius\n",
    "lr = init_learning_rate\n",
    "\n",
    "#nets = np.zeros(shape=(network_dim[0] * network_dim[1], 3, iterations))\n",
    "\n",
    "\n",
    "for i in range(iterations):\n",
    "    # select the i-th training sample (modulo # of samples)\n",
    "    sample = data[i % data.shape[0]]\n",
    "    # find the best matching unit\n",
    "    bmu, bmu_idx = find_bmu(sample, net, dim)\n",
    "    \n",
    "    net = update_weights(lr, radius, net, bmu_idx, sample)\n",
    "    \n",
    "    if(decay_radius):\n",
    "        radius = decay_radius_func(radius, i, time_const)\n",
    "    if(decay_lr):\n",
    "        lr = decay_lr_func(lr, i, iterations)\n",
    "\n",
    "    \n",
    "    if((i+1) % 100 == 0):\n",
    "        print(\"After \" + str(i) + \" iterations: \")\n",
    "        plt.imshow(net)\n",
    "        plt.show()\n",
    "        \n",
    "    imsave(image_save_folder + '/' + str(i) + '.png', net)"
   ]
  },
  {
   "cell_type": "code",
   "execution_count": 77,
   "metadata": {
    "collapsed": false
   },
   "outputs": [],
   "source": [
    "# Lets save the weights as a binary file, just in case we want to load them later\n",
    "np.save(weight_save_file, net)"
   ]
  },
  {
   "cell_type": "code",
   "execution_count": null,
   "metadata": {
    "collapsed": false
   },
   "outputs": [],
   "source": []
  },
  {
   "cell_type": "code",
   "execution_count": null,
   "metadata": {
    "collapsed": true
   },
   "outputs": [],
   "source": []
  }
 ],
 "metadata": {
  "anaconda-cloud": {},
  "kernelspec": {
   "display_name": "Python 3",
   "language": "python",
   "name": "python3"
  },
  "language_info": {
   "codemirror_mode": {
    "name": "ipython",
    "version": 3
   },
   "file_extension": ".py",
   "mimetype": "text/x-python",
   "name": "python",
   "nbconvert_exporter": "python",
   "pygments_lexer": "ipython3",
   "version": "3.5.2"
  }
 },
 "nbformat": 4,
 "nbformat_minor": 1
}
